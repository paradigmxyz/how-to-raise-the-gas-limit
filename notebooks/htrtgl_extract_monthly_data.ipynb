{
 "cells": [
  {
   "cell_type": "markdown",
   "id": "0e07a4bb",
   "metadata": {},
   "source": [
    "this notebook aggregates state diffs per-month and per-contract and saves the aggregations to disk"
   ]
  },
  {
   "cell_type": "code",
   "execution_count": 1,
   "id": "5738febe",
   "metadata": {
    "ExecuteTime": {
     "end_time": "2024-03-04T08:04:27.182126Z",
     "start_time": "2024-03-04T08:04:26.713367Z"
    }
   },
   "outputs": [],
   "source": [
    "import copy\n",
    "import os\n",
    "import typing\n",
    "\n",
    "import numpy as np\n",
    "import polars as pl\n",
    "import polars_evm\n",
    "import matplotlib.pyplot as plt\n",
    "import toolplot\n",
    "import tooltime\n",
    "import toolstr\n",
    "import IPython\n",
    "import state_growth\n",
    "import shutil\n",
    "import glob\n",
    "import polars_evm\n",
    "\n",
    "from state_growth.datasets import io_per_contract"
   ]
  },
  {
   "cell_type": "code",
   "execution_count": 2,
   "id": "39a84265",
   "metadata": {
    "ExecuteTime": {
     "end_time": "2024-03-04T08:04:27.188108Z",
     "start_time": "2024-03-04T08:04:27.184715Z"
    }
   },
   "outputs": [],
   "source": [
    "toolplot.setup_plot_formatting()"
   ]
  },
  {
   "cell_type": "code",
   "execution_count": 3,
   "id": "24990c18",
   "metadata": {
    "ExecuteTime": {
     "end_time": "2024-03-04T08:04:27.200785Z",
     "start_time": "2024-03-04T08:04:27.189977Z"
    }
   },
   "outputs": [],
   "source": [
    "polars_evm.set_column_display_width()"
   ]
  },
  {
   "cell_type": "code",
   "execution_count": 4,
   "id": "7a5acb8f",
   "metadata": {
    "ExecuteTime": {
     "end_time": "2024-03-04T08:04:27.213225Z",
     "start_time": "2024-03-04T08:04:27.203448Z"
    }
   },
   "outputs": [],
   "source": [
    "context = {\n",
    "    'data_root': '/home/storm/data',\n",
    "    'network': 'ethereum',\n",
    "}"
   ]
  },
  {
   "cell_type": "code",
   "execution_count": 5,
   "id": "2496abb5",
   "metadata": {
    "ExecuteTime": {
     "end_time": "2024-03-04T08:04:27.218763Z",
     "start_time": "2024-03-04T08:04:27.214907Z"
    }
   },
   "outputs": [],
   "source": [
    "raw_input_datatype = 'storage_diffs'\n",
    "extras = {}\n",
    "join_time_column = True\n",
    "min_block = 0\n",
    "max_block = 19_340_000\n",
    "chunk_size = 1_000_000\n",
    "output_datatype_template = 'writes_per_{interval}_contract'\n",
    "interval_types = ['block_month']\n",
    "\n",
    "def f(\n",
    "    raw_dataset: pl.DataFrame,\n",
    "    time_intervals: pl.DataFrame,\n",
    "    time_column_name: str,\n",
    "    extras: typing.Mapping,\n",
    ") -> pl.DataFrame:\n",
    "    return io_per_contract.aggregate_contract_slot_diffs(\n",
    "        df=raw_dataset,\n",
    "        time_column=time_column_name,\n",
    "    )"
   ]
  },
  {
   "cell_type": "code",
   "execution_count": 6,
   "id": "b40d3ad5",
   "metadata": {
    "ExecuteTime": {
     "end_time": "2024-03-04T08:04:32.341139Z",
     "start_time": "2024-03-04T08:04:27.220570Z"
    },
    "scrolled": false
   },
   "outputs": [
    {
     "name": "stdout",
     "output_type": "stream",
     "text": [
      "transforming 20 chunks:\n",
      "- (0, 999999)\n",
      "- (1000000, 1999999)\n",
      "- (2000000, 2999999)\n",
      "- (3000000, 3999999)\n",
      "- (4000000, 4999999)\n",
      "- (5000000, 5999999)\n",
      "- (6000000, 6999999)\n",
      "- (7000000, 7999999)\n",
      "- (8000000, 8999999)\n",
      "- (9000000, 9999999)\n",
      "- (10000000, 10999999)\n",
      "- (11000000, 11999999)\n",
      "- (12000000, 12999999)\n",
      "- (13000000, 13999999)\n",
      "- (14000000, 14999999)\n",
      "- (15000000, 15999999)\n",
      "- (16000000, 16999999)\n",
      "- (17000000, 17999999)\n",
      "- (18000000, 18999999)\n",
      "- (19000000, 19999999)\n",
      "\n",
      "doing writes_per_month_contract\n",
      "skipping ethereum__writes_per_month_contract__00000000_to_00999999.parquet\n",
      "skipping ethereum__writes_per_month_contract__01000000_to_01999999.parquet\n",
      "skipping ethereum__writes_per_month_contract__02000000_to_02999999.parquet\n",
      "skipping ethereum__writes_per_month_contract__03000000_to_03999999.parquet\n",
      "skipping ethereum__writes_per_month_contract__04000000_to_04999999.parquet\n",
      "skipping ethereum__writes_per_month_contract__05000000_to_05999999.parquet\n",
      "skipping ethereum__writes_per_month_contract__06000000_to_06999999.parquet\n",
      "skipping ethereum__writes_per_month_contract__07000000_to_07999999.parquet\n",
      "skipping ethereum__writes_per_month_contract__08000000_to_08999999.parquet\n",
      "skipping ethereum__writes_per_month_contract__09000000_to_09999999.parquet\n",
      "skipping ethereum__writes_per_month_contract__10000000_to_10999999.parquet\n",
      "skipping ethereum__writes_per_month_contract__11000000_to_11999999.parquet\n",
      "skipping ethereum__writes_per_month_contract__12000000_to_12999999.parquet\n",
      "skipping ethereum__writes_per_month_contract__13000000_to_13999999.parquet\n",
      "skipping ethereum__writes_per_month_contract__14000000_to_14999999.parquet\n",
      "skipping ethereum__writes_per_month_contract__15000000_to_15999999.parquet\n",
      "skipping ethereum__writes_per_month_contract__16000000_to_16999999.parquet\n",
      "skipping ethereum__writes_per_month_contract__17000000_to_17999999.parquet\n",
      "skipping ethereum__writes_per_month_contract__18000000_to_18999999.parquet\n",
      "skipping ethereum__writes_per_month_contract__19000000_to_19999999.parquet\n"
     ]
    }
   ],
   "source": [
    "state_growth.transform_chunks(\n",
    "    raw_input_datatype=raw_input_datatype,\n",
    "    output_datatype_template=output_datatype_template,\n",
    "    extras=extras,\n",
    "    join_time_column=join_time_column,\n",
    "    f=f,\n",
    "    time_columns=interval_types,\n",
    "    context=context,\n",
    "    min_block=min_block,\n",
    "    max_block=max_block,\n",
    "    chunk_size=chunk_size,\n",
    "    verbose=True,\n",
    ")"
   ]
  }
 ],
 "metadata": {
  "kernelspec": {
   "display_name": "Python 3 (ipykernel)",
   "language": "python",
   "name": "python3"
  },
  "language_info": {
   "codemirror_mode": {
    "name": "ipython",
    "version": 3
   },
   "file_extension": ".py",
   "mimetype": "text/x-python",
   "name": "python",
   "nbconvert_exporter": "python",
   "pygments_lexer": "ipython3",
   "version": "3.10.12"
  }
 },
 "nbformat": 4,
 "nbformat_minor": 5
}
